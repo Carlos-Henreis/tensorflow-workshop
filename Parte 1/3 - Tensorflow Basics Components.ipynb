{
 "cells": [
  {
   "cell_type": "markdown",
   "metadata": {},
   "source": [
    "# Componentes Básicos do Tensorflow\n",
    "\n",
    "Inicialmente, o cálculo no TensorFlow pode parecer desnecessariamente complicado. É desnecesárop pois com o TensorFlow é possível desenvolver algoritmos mais complicados de forma relativamente fácil. "
   ]
  },
  {
   "cell_type": "code",
   "execution_count": 1,
   "metadata": {},
   "outputs": [
    {
     "name": "stdout",
     "output_type": "stream",
     "text": [
      "Tensor(\"Const:0\", shape=(), dtype=string)\n"
     ]
    }
   ],
   "source": [
    "import tensorflow as tf\n",
    "\n",
    "hello = tf.constant(\"Olá tensorflow\")\n",
    "print(hello)"
   ]
  },
  {
   "cell_type": "code",
   "execution_count": 2,
   "metadata": {},
   "outputs": [
    {
     "data": {
      "text/plain": [
       "'Olá tensorflow'"
      ]
     },
     "execution_count": 2,
     "metadata": {},
     "output_type": "execute_result"
    }
   ],
   "source": [
    "session = tf.Session()\n",
    "\n",
    "retorno = session.run(hello)\n",
    "\n",
    "retorno.decode()"
   ]
  },
  {
   "cell_type": "markdown",
   "metadata": {},
   "source": [
    "## Esboços Gerais do Algoritmo TensorFlow\n",
    "\n",
    "Aqui vamos introduzir o fluxo geral de algoritmos Tensorflow. \n",
    "\n",
    "1. Importe ou gere/manipular dados.\n",
    "2. Definir parâmetros do algoritmo. \n",
    "\n",
    "    Nossos algoritmos geralmente possuem um conjunto de parâmetros que mantemos constantes durante todo o procedimento. Por exemplo, isso pode ser o número de iterações, a taxa de aprendizado ou outros parâmetros fixos de nossa escolha."
   ]
  },
  {
   "cell_type": "code",
   "execution_count": 3,
   "metadata": {},
   "outputs": [],
   "source": [
    "learning_rate = 0.001\n",
    "interations = 20000"
   ]
  },
  {
   "cell_type": "markdown",
   "metadata": {},
   "source": [
    "3. Inicialize variáveis e placeholders.\n",
    "\n",
    "    Tensorflow depende de nos dizer o que pode e não pode ser modificado. O Tensorflow modificará as **variáveis** durante a otimização para minimizar uma função de perda (modelos ML). Para conseguir isso, alimentamos os dados por meio de **placeholders**. É necessário inicializar ambos com tamanho e tipo, para que a Tensorflow saiba o que esperar."
   ]
  },
  {
   "cell_type": "code",
   "execution_count": 45,
   "metadata": {},
   "outputs": [],
   "source": [
    "w = tf.constant(0.34)\n",
    "x_input = tf.placeholder(tf.float32, [None, 46]) #46 = Tamanho da entrada\n",
    "y_input = tf.placeholder(tf.float32, [None, 3])   #3 = Quantidade de Classes\n",
    "weight_matrix = tf.random_normal([3, 46])"
   ]
  },
  {
   "cell_type": "markdown",
   "metadata": {},
   "source": [
    "4. Definir a estrutura do modelo\n",
    "    Depois de termos os dados e inicializarmos nossas variáveis e placeholders, temos que definir o modelo. Isso é feito construindo um **grafo computacional**. Dizemos à Tensorflow quais operações devem ser feitas nas variáveis e placeholders para chegarmos às nossas previsões de modelo."
   ]
  },
  {
   "cell_type": "code",
   "execution_count": 46,
   "metadata": {},
   "outputs": [],
   "source": [
    "y_pred = tf.multiply(x_input, weight_matrix)"
   ]
  },
  {
   "cell_type": "markdown",
   "metadata": {},
   "source": [
    "5. Declare as funções de perda.\n",
    "\n",
    "    Depois de definir o modelo, devemos ser capazes de avaliar a saída. É aqui que declaramos a função de perda. A função de perda é muito importante, pois nos informa a que distância as nossas previsões são dos valores reais.\n",
    "    \n",
    "    * **Observação:** É possivel encapsular tais operações em um objeto do tipo *tf.Graph()*\n",
    "    \n",
    "    \n",
    "6. Inicialize e treine o modelo.\n",
    "\n",
    "    Agora que temos tudo no lugar, criamos uma instância (grafo) e alimentamos o modelo com os dados e permitimos que o Tensorflow altere as variáveis para melhor prever nossos dados de treinamento É necessário inicializar o grafo e avaliar os objetos da classe Tensor, contidas em um grafo. Aqui está uma maneira de inicializar o gráfico computacional."
   ]
  },
  {
   "cell_type": "code",
   "execution_count": 57,
   "metadata": {
    "code_folding": []
   },
   "outputs": [],
   "source": [
    "graph = tf.Graph()\n",
    "\n",
    "session = tf.Session(graph=graph)\n",
    "#existem outras maneiras de se iniciar um grafo:\n",
    "\n",
    "#with tf.Session(graph=graph) as session1:\n",
    "#    session.run(w)\n",
    "\n"
   ]
  },
  {
   "cell_type": "markdown",
   "metadata": {},
   "source": [
    "7. Avalie o modelo e prever novos resultados.\n",
    "    \n",
    "    Uma vez que construímos e treinamos o modelo, devemos avaliar o modelo observando o quão bem ele funciona em alguns critérios especificados. Também é possíve fazer previsões sobre novos dados não vistos. Podemos fazer isso com qualquer modelos, uma vez que os tenhamos treinados."
   ]
  },
  {
   "cell_type": "markdown",
   "metadata": {},
   "source": [
    "# Resumindo\n",
    "\n",
    "![Image of Yaktocat](../images/session-tensorflow.png)"
   ]
  }
 ],
 "metadata": {
  "kernelspec": {
   "display_name": "Python 3",
   "language": "python",
   "name": "python3"
  },
  "language_info": {
   "codemirror_mode": {
    "name": "ipython",
    "version": 3
   },
   "file_extension": ".py",
   "mimetype": "text/x-python",
   "name": "python",
   "nbconvert_exporter": "python",
   "pygments_lexer": "ipython3",
   "version": "3.6.6"
  }
 },
 "nbformat": 4,
 "nbformat_minor": 2
}

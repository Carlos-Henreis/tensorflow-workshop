{
 "cells": [
  {
   "attachments": {},
   "cell_type": "markdown",
   "metadata": {},
   "source": [
    "# Frameworks e Machine Learning\n",
    "\n",
    "Existem inúmeros frameworks para aprendizado de máquina surgiram, principalmente as implementações de código aberto que são mais promissoras devido a várias razões: **códigos-fonte disponíveis, grande comunidade de desenvolvedores e usuários finais** e, consequentemente, inúmeras aplicações que demonstram e validam a maturidade dessas estruturas. A tabela 3.6.1 mostra os principais frameworks de código aberto.\n",
    "\n",
    "##  Como os Frameworks de Machine Learning funcionam\n",
    "\n",
    "Geralmente os modelos são construídos em duas fases, que compõem um paradigma denominado *Define-and-Run* (Definir e Executar).\n",
    "\n",
    "![Image of Yaktocat](../images/Define-and-Run.svg)\n",
    "\n",
    "Na fase Define (Definição), um grafo computacional é construído (estrutura que organiza os cálculos) e na fase Run (Execução), o modelo é treinado em um conjunto de dados de treinamento.\n",
    "\n",
    "## Deep Learning Package Zoo\n",
    "\n",
    "![Image of Yaktocat](../images/frameworks.png)\n",
    "\n",
    "\n",
    "*  Quando o Tensorflow se tornou aberto em novembro de 2015, já havia muitas bibliotecas populares de código aberto para Aprendizagem de máquina e a maioria dos recursos de Tensorflow já existiam em uma biblioteca ou outra. \n",
    "\n",
    "* Porém, o Tensorflow foi projetado para ser flexível, escalável e pronto para produção já os os frameworks existentes atingem apenas dois dos três destes diferenciais. \n",
    "\n",
    "* Além de que o Tensorflow possui design limpo e possui uma ótima documentação.\n",
    "\n",
    "### Por que TensorFlow?\n",
    "\n",
    "**Comunidade Forte!**\n",
    "\n",
    "![Image of Yaktocat](../images/frameworks-git.png)\n",
    "\n",
    "## O que é o Tensorflow\n",
    "\n",
    "* O Tensorflow é uma poderosa biblioteca de software de código aberto para computação numérica.\n",
    "* Particularmente adequada e ajustada para aprendizado de máquina em grande escala.\n",
    "* Foi desenvolvido pelo Google e muitos dos seus aplicativos de AM em larga escala foram implementados usando o Tensorflow \n",
    "* Foi projetado para melhorar o desempenho otimizando a alocação de cálculos entre vários CPUs ou GPUs, além de suportar computação distribuída.\n",
    "* Empresas que usam TensorFlow\n",
    "**UBER, NVIDEA, Google, Coca-Cola, IBM, ARM, Intel, etc...**\n",
    "\n",
    "![image.png](../images/companies.png)\n",
    "\n",
    "\n"
   ]
  },
  {
   "cell_type": "code",
   "execution_count": null,
   "metadata": {},
   "outputs": [],
   "source": []
  }
 ],
 "metadata": {
  "kernelspec": {
   "display_name": "Python 3",
   "language": "python",
   "name": "python3"
  },
  "language_info": {
   "codemirror_mode": {
    "name": "ipython",
    "version": 3
   },
   "file_extension": ".py",
   "mimetype": "text/x-python",
   "name": "python",
   "nbconvert_exporter": "python",
   "pygments_lexer": "ipython3",
   "version": "3.6.5"
  }
 },
 "nbformat": 4,
 "nbformat_minor": 2
}

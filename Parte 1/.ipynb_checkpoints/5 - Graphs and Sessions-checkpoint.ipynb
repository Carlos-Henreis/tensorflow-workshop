{
 "cells": [
  {
   "cell_type": "markdown",
   "metadata": {},
   "source": [
    "# Grafos e Sessões\n",
    "\n",
    "\n",
    "Como foi visto o Tensorflow primeiro cria um grafo computacional com as operações como os nós do grafo e tensores para suas arestas e a execução acontece quando o grafo é executado em uma sessão.\n",
    "\n",
    "\n",
    "\n",
    "\n"
   ]
  },
  {
   "cell_type": "code",
   "execution_count": 3,
   "metadata": {},
   "outputs": [
    {
     "name": "stdout",
     "output_type": "stream",
     "text": [
      "Olá mundo\n"
     ]
    }
   ],
   "source": [
    "import tensorflow as tf\n",
    "\n",
    "a = \"Olá mundo\"\n",
    "print(a)"
   ]
  },
  {
   "cell_type": "code",
   "execution_count": 4,
   "metadata": {},
   "outputs": [
    {
     "name": "stdout",
     "output_type": "stream",
     "text": [
      "Tensor(\"Const:0\", shape=(), dtype=string)\n"
     ]
    }
   ],
   "source": [
    "a = tf.constant(\"Olá mundo\")\n",
    "\n",
    "print(a)"
   ]
  },
  {
   "cell_type": "markdown",
   "metadata": {},
   "source": [
    "Isso porque ainda não executamos o grafo computaional em uma **sessão**\n",
    "\n",
    "* **Paralelismo**. Representação explícita de dependências entre operações, é fácil para o sistema identificar operações que podem ser executadas em paralelo.\n",
    "\n",
    "* **Execução distribuída**. Representação explícita de dependências entre os valores que fluem entre as operações, é possível que o TensorFlow particione seu programa em vários dispositivos (CPUs, GPUs e TPUs) conectados a diferentes máquinas. O TensorFlow insere a comunicação e a coordenação necessárias entre os dispositivos.\n",
    "\n",
    "* **Compilação**. O compilador XLA do TensorFlow pode usar as informações em seu gráfico de fluxo de dados para gerar código mais rápido, por exemplo, fundindo operações adjacentes.\n",
    "\n",
    "* **Portabilidade**. O gráfico de fluxo de dados é uma representação independente de linguagem do código em seu modelo. Você pode criar um gráfico de fluxo de dados no Python, armazená-lo em um SavedModel e restaurá-lo em um programa C ++ para inferência de baixa latência.\n"
   ]
  },
  {
   "cell_type": "markdown",
   "metadata": {},
   "source": [
    "1. Objeto Session (tf.Session()): Um objeto de sessão encapsula o ambiente em que os objetos da classe Tensor, contidas em um grafo,  são avaliados.\n",
    "2. Tensorflow Graph (tf.Graph()):  Os algoritmos TensorFlow geralmente são estruturados em uma fase de construção, criação do grafo, e uma fase de execução que usa uma sessão para executar operações no grafo.\n",
    "\n",
    "## Fase de contrução"
   ]
  },
  {
   "cell_type": "code",
   "execution_count": 11,
   "metadata": {},
   "outputs": [],
   "source": [
    "#definimos nosso grafo \n",
    "graph = tf.Graph()\n",
    "\n",
    "with graph.as_default():#Abre o grafo para definimos as variáveis (tensores) operações nós\n",
    "    a = tf.constant(\"Olá mundo\")\n"
   ]
  },
  {
   "cell_type": "markdown",
   "metadata": {},
   "source": [
    "## Fase de execução\n",
    "\n",
    "Temos que criar uma sessão do TensorFlow para executar partes do grafo em um conjunto de dispositivos locais e ou\n",
    "remotos."
   ]
  },
  {
   "cell_type": "code",
   "execution_count": 24,
   "metadata": {},
   "outputs": [
    {
     "name": "stdout",
     "output_type": "stream",
     "text": [
      "Olá mundo\n"
     ]
    }
   ],
   "source": [
    "with tf.Session(graph=graph) as sess:\n",
    "    #Aqui avaliamos um tensor\n",
    "    print(a.eval().decode())\n"
   ]
  },
  {
   "cell_type": "markdown",
   "metadata": {},
   "source": [
    "Existe outras formas de executar um grafo em uma sessão:"
   ]
  },
  {
   "cell_type": "code",
   "execution_count": 25,
   "metadata": {},
   "outputs": [
    {
     "name": "stdout",
     "output_type": "stream",
     "text": [
      "Olá mundo\n",
      "Olá mundo\n",
      "Olá mundo\n"
     ]
    }
   ],
   "source": [
    "with tf.Session(graph=graph) as sess:\n",
    "    #Aqui avaliamos um tensor\n",
    "    print(sess.run(a).decode())\n",
    "    \n",
    "    print(a.eval().decode())\n",
    "    \n",
    "sess2 = tf.Session(graph=graph)\n",
    "\n",
    "print(sess2.run(a).decode())"
   ]
  },
  {
   "cell_type": "code",
   "execution_count": null,
   "metadata": {},
   "outputs": [],
   "source": []
  }
 ],
 "metadata": {
  "kernelspec": {
   "display_name": "Python 3",
   "language": "python",
   "name": "python3"
  },
  "language_info": {
   "codemirror_mode": {
    "name": "ipython",
    "version": 3
   },
   "file_extension": ".py",
   "mimetype": "text/x-python",
   "name": "python",
   "nbconvert_exporter": "python",
   "pygments_lexer": "ipython3",
   "version": "3.6.6"
  }
 },
 "nbformat": 4,
 "nbformat_minor": 2
}

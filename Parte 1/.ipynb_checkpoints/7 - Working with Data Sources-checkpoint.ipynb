{
 "cells": [
  {
   "cell_type": "markdown",
   "metadata": {},
   "source": [
    "# Trabalhando com entradas de dados\n",
    "\n",
    "Até agora temos usado `tf.Variables` para gerenciar nossos dados, mas há uma estrutura mais básica, o `tf.Placeholder(0`. O placeholder é simplesmente uma variável para a qual atribuiremos dados pertencentes a um conjunto de dados fornecido. Isso nos permite criar nossas operações e construir nosso grafo de computacional, sem precisar dos dados. Na terminologia TensorFlow alimentamos dados no grafo por meio desses placeholders. "
   ]
  },
  {
   "cell_type": "code",
   "execution_count": 12,
   "metadata": {},
   "outputs": [
    {
     "name": "stdout",
     "output_type": "stream",
     "text": [
      "[ 6. 17. 42.]\n"
     ]
    }
   ],
   "source": [
    "import tensorflow as tf\n",
    "sess = tf.Session()\n",
    "\n",
    "x = tf.placeholder(tf.float32, None)\n",
    "y = tf.placeholder(tf.float32, None)\n",
    "f = tf.pow(x, 2) * y + y + 2\n",
    "#x² * y + y + 2\n",
    "with tf.Session() as session:\n",
    "    result = session.run(f, feed_dict={x: [1, 2, 3], y: [2, 3, 4]})\n",
    "    print(result)"
   ]
  },
  {
   "cell_type": "markdown",
   "metadata": {},
   "source": [
    "* Criamos um objeto de sessão e, em seguida, executamos apenas o nó `f`. Observe que isso significa que, se definimos um grafo de operações muito maior, podemos executar apenas **um pequeno segmento do grafo**. Essa avaliação do subgrafo é, na verdade, um ponto de venda do TensorFlow, e um que não está presente em muitas outras bibliotecas que fazem coisas semelhantes.\n",
    "\n",
    "* Avaliar `f` requer conhecimento sobre os valores de x e y. Nós definimos estes dentro do argumento `feed_dict` no método `run`. \n",
    "\n",
    "* Os placeholders não precisam ser estaticamente dimensionados. Porém é uma boa prática defini-los\n",
    "\n",
    "## Dimensão dos placeholders\n",
    "\n",
    "Placeholders também podem ter várias dimensões, permitindo o armazenamento de dados de alta dimensionaliadade. No exemplo a seguir, criamos uma matriz 3 por 2 e armazenamos alguns números nela. Em seguida, multiplicamos pela constante 2."
   ]
  },
  {
   "cell_type": "code",
   "execution_count": 16,
   "metadata": {},
   "outputs": [
    {
     "name": "stdout",
     "output_type": "stream",
     "text": [
      "[[ 2.  4.  6.]\n",
      " [ 8. 10. 12.]]\n"
     ]
    }
   ],
   "source": [
    "x = tf.placeholder(\"float\", [None, 3])\n",
    "y = x * 2\n",
    "\n",
    "with tf.Session() as session:\n",
    "    x_data = [[1, 2, 3],\n",
    "              [4, 5, 6]]\n",
    "    result = session.run(y, feed_dict={x: x_data})\n",
    "    print(result)"
   ]
  },
  {
   "cell_type": "markdown",
   "metadata": {},
   "source": [
    "A primeira dimensão do Placeholder é `None`, o que significa que podemos ter qualquer número de linhas. A segunda dimensão é fixada em 3, o que significa que cada linha precisa ter três colunas de dados.\n",
    "\n",
    "Podemos generalizar isso para obter um número arbitrário de dimensões. "
   ]
  },
  {
   "cell_type": "code",
   "execution_count": 17,
   "metadata": {},
   "outputs": [
    {
     "ename": "NameError",
     "evalue": "name '__file__' is not defined",
     "output_type": "error",
     "traceback": [
      "\u001b[0;31m---------------------------------------------------------------------------\u001b[0m",
      "\u001b[0;31mNameError\u001b[0m                                 Traceback (most recent call last)",
      "\u001b[0;32m<ipython-input-17-8f4af0426fe4>\u001b[0m in \u001b[0;36m<module>\u001b[0;34m\u001b[0m\n\u001b[1;32m      4\u001b[0m \u001b[0;34m\u001b[0m\u001b[0m\n\u001b[1;32m      5\u001b[0m \u001b[0;31m# First, load the image again\u001b[0m\u001b[0;34m\u001b[0m\u001b[0;34m\u001b[0m\u001b[0m\n\u001b[0;32m----> 6\u001b[0;31m \u001b[0mdir_path\u001b[0m \u001b[0;34m=\u001b[0m \u001b[0mos\u001b[0m\u001b[0;34m.\u001b[0m\u001b[0mpath\u001b[0m\u001b[0;34m.\u001b[0m\u001b[0mdirname\u001b[0m\u001b[0;34m(\u001b[0m\u001b[0mos\u001b[0m\u001b[0;34m.\u001b[0m\u001b[0mpath\u001b[0m\u001b[0;34m.\u001b[0m\u001b[0mrealpath\u001b[0m\u001b[0;34m(\u001b[0m\u001b[0m__file__\u001b[0m\u001b[0;34m)\u001b[0m\u001b[0;34m)\u001b[0m\u001b[0;34m\u001b[0m\u001b[0m\n\u001b[0m\u001b[1;32m      7\u001b[0m \u001b[0mfilename\u001b[0m \u001b[0;34m=\u001b[0m \u001b[0mdir_path\u001b[0m \u001b[0;34m+\u001b[0m \u001b[0;34m\"../images/IMG_2135.JPG\"\u001b[0m\u001b[0;34m\u001b[0m\u001b[0m\n\u001b[1;32m      8\u001b[0m \u001b[0mraw_image_data\u001b[0m \u001b[0;34m=\u001b[0m \u001b[0mmpimg\u001b[0m\u001b[0;34m.\u001b[0m\u001b[0mimread\u001b[0m\u001b[0;34m(\u001b[0m\u001b[0mfilename\u001b[0m\u001b[0;34m)\u001b[0m\u001b[0;31m#concerte RGB\u001b[0m\u001b[0;34m\u001b[0m\u001b[0m\n",
      "\u001b[0;31mNameError\u001b[0m: name '__file__' is not defined"
     ]
    }
   ],
   "source": [
    "import matplotlib.image as mpimg\n",
    "import matplotlib.pyplot as plt\n",
    "import os\n",
    "\n",
    "# First, load the image again\n",
    "dir_path = os.path.dirname(os.path.realpath(\"__file__\"))\n",
    "filename = dir_path + \"../images/IMG_2135.JPG\"\n",
    "raw_image_data = mpimg.imread(filename)#concerte RGB\n",
    "\n",
    "image = tf.placeholder(tf.uint8, [None, None, 3])\n",
    "slice = tf.slice(image, [1000, 0, 0], [3000, -1, -1])\n",
    "\n",
    "with tf.Session() as session:\n",
    "    result = session.run(slice, feed_dict={image: raw_image_data})\n",
    "    print(result.shape)\n",
    "\n",
    "plt.imshow(result)\n",
    "plt.show()"
   ]
  },
  {
   "cell_type": "markdown",
   "metadata": {},
   "source": [
    "Neste exemplo, carregamos a imagem da nossa última lição e, em seguida, criamos um espaço reservado que armazena uma fatia dessa imagem. A fatia é um segmento 2D da imagem, mas cada “pixel” tem três componentes (vermelho, verde, azul). Portanto, precisamos Nonedas duas primeiras dimensões, mas precisamos 3(ou Nonetrabalharíamos) para a última dimensão. Em seguida, usamos o slicemétodo do TensorFlow para tirar um subsegmento da imagem para operar."
   ]
  }
 ],
 "metadata": {
  "kernelspec": {
   "display_name": "Python 3",
   "language": "python",
   "name": "python3"
  },
  "language_info": {
   "codemirror_mode": {
    "name": "ipython",
    "version": 3
   },
   "file_extension": ".py",
   "mimetype": "text/x-python",
   "name": "python",
   "nbconvert_exporter": "python",
   "pygments_lexer": "ipython3",
   "version": "3.6.6"
  }
 },
 "nbformat": 4,
 "nbformat_minor": 2
}

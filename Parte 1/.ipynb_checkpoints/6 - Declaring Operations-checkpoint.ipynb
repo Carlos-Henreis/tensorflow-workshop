{
 "cells": [
  {
   "cell_type": "markdown",
   "metadata": {},
   "source": [
    "# Declarando Operações\n",
    "\n",
    "Agora precisamos aprender sobre as outras operações que podemos adicionar a um gráfico do TensorFlow.\n",
    "\n",
    "Além das operações aritméticas padrão, o TensorFlow nos fornece mais operações das quais devemos estar cientes. Precisamos saber como usá-los antes de prosseguir:"
   ]
  },
  {
   "cell_type": "code",
   "execution_count": 2,
   "metadata": {},
   "outputs": [],
   "source": [
    "import tensorflow as tf"
   ]
  },
  {
   "cell_type": "markdown",
   "metadata": {},
   "source": [
    "## Operaçoes aritimeticas\n",
    "\n",
    "Os algoritmos de aprendizado de máquina são fundamentalmente matemáticos, e o TensorFlow fornece uma grande variedade de métodos para executar operações matemáticas em tensores.\n",
    "\n",
    "\n",
    "| Método                    | Descrição                                   |\n",
    "|---------------------------|---------------------------------------------|\n",
    "| add(x, y, name=None)      | Adiciona dois tensores                      |\n",
    "| subtract(x, y, name=None) | Subtrai dois tensores                       |\n",
    "| multiply(x, y, name=None) | Multiplica dois tensores                    |\n",
    "| divide(x, y, name=None)   | Divide os elementos de dois tensores        |\n",
    "| div(x, y, name=None)      | Divide os elementos de dois tensores        |\n",
    "| add_n(inputs, name=None)  | Adiciona tensores múltiplos                 |\n",
    "| scalar_mul(scalar, x)     | Escala um tensor por um valor escalar       |\n",
    "| mod(x, y, name=None)      | Executa a operação do módulo                |\n",
    "| abs(x, name=None)         | Calcula o valor absoluto                    |\n",
    "| negative(x, name=None)    | Nega os elementos do tensor                 |\n",
    "| sign(x, name=None)        | Extrai os sinais dos elementos dos tensores |\n",
    "| reciprocal(x, name=None)  | Calcula os recíprocos                       |\n",
    "\n",
    "As primeiras quatro funções executam aritmética elementar."
   ]
  },
  {
   "cell_type": "code",
   "execution_count": 4,
   "metadata": {},
   "outputs": [
    {
     "name": "stdout",
     "output_type": "stream",
     "text": [
      "[5. 5. 5.]\n",
      "[1. 1. 1.]\n",
      "[6. 6. 6.]\n",
      "[1.5 1.5 1.5]\n"
     ]
    }
   ],
   "source": [
    "#definimos nosso grafo \n",
    "graph = tf.Graph()\n",
    "\n",
    "with graph.as_default():#Abre o grafo para definimos as variáveis (tensores) operações nós\n",
    "    a = tf.constant([3., 3., 3.])\n",
    "    b = tf.constant([2., 2., 2.])\n",
    "    \n",
    "    #Adicionando operações\n",
    "    sum1 = tf.add(a, b)                 # [ 5. 5. 5. ]\n",
    "    diff = tf.subtract(a, b)           # [ 1. 1. 1. ]\n",
    "    prod = tf.multiply(a, b)           # [ 6. 6. 6. ]\n",
    "    quot = tf.divide(a, b)             # [ 1.5 1.5 1.5 ]\n",
    "\n",
    "with tf.Session(graph=graph) as sess:\n",
    "    print(sum1.eval())\n",
    "    print(diff.eval())\n",
    "    print(prod.eval())\n",
    "    print(quot.eval())\n"
   ]
  },
  {
   "cell_type": "markdown",
   "metadata": {},
   "source": [
    "Os algoritmos podem executar operações idênticas usando operadores regulares do Python, como +, -, *, / e //."
   ]
  },
  {
   "cell_type": "code",
   "execution_count": 7,
   "metadata": {},
   "outputs": [
    {
     "name": "stdout",
     "output_type": "stream",
     "text": [
      "[5. 5. 5.]\n",
      "[5. 5. 5.]\n"
     ]
    }
   ],
   "source": [
    "#definimos nosso grafo \n",
    "graph1 = tf.Graph()\n",
    "\n",
    "with graph1.as_default():#Abre o grafo para definimos as variáveis (tensores) operações nós\n",
    "    a = tf.constant([3., 3., 3.])\n",
    "    b = tf.constant([2., 2., 2.])\n",
    "    \n",
    "    #Adicionando operações\n",
    "    sum1 = tf.add(a, b)     # [ 5. 5. 5. ]\n",
    "    sum2 = a + b            # [ 5. 5. 5. ]\n",
    "\n",
    "with tf.Session(graph=graph1) as sess:\n",
    "    print(sum1.eval())\n",
    "    print(sum2.eval())"
   ]
  },
  {
   "cell_type": "markdown",
   "metadata": {},
   "source": [
    "## Operações vetoriais e matriciais no tensorflow\n",
    "\n",
    "Em aprendizado de máquina armazenam uma grande quantidade de dados em vetores (tensores unidimensionais) e matrizes (tensores bidimensionais). Para processar esses dados, o TensorFlow fornece muitas funções que operam em vetores e matrizes. A tabela a seguir lista essas funções e fornece uma descrição de cada uma delas.\n",
    "\n",
    "| Função                                                                                                                                                                                 | Descrição                                                                                                 |\n",
    "|----------------------------------------------------------------------------------------------------------------------------------------------------------------------------------------|-----------------------------------------------------------------------------------------------------------|\n",
    "| tensordot(a, b, axes, name=None)                                                                                                                                                       | Retorna a soma dos produtos para os elementos nos eixos especificados                                     |\n",
    "| cross(a, b, name=None)                                                                                                                                                                 | Retorna o produto cruzado por elementos                                                                   |\n",
    "| diag(diagonal, name=None)                                                                                                                                                              | Retorna uma matriz com os valores diagonais fornecidos, outros valores definidos como zero                |\n",
    "| trace(x, name=None)                                                                                                                                                                    | Retorna a soma dos elementos da diagonal                                                                  |\n",
    "| transpose(x,            perm=None,           name='transpose')                                                                                                                         | Alterna linhas e colunas                                                                                  |\n",
    "| eye(num_rows,      num_columns=None,     batch_shape=None,     dtype=tf.float32,     name=None)                                                                                        | Cria uma matriz de identidade com a forma e o tipo de dados fornecidos                                    |\n",
    "| matmul(a, b,        transpose_a=False,        transpose_b=False,        adjoint_a=False,        adjoint_b=False,        a_is_sparse=False,        b_is_sparse=False,        name=None) | Retorna o produto das duas matrizes de entrada                                                            |\n",
    "| norm(tensor,      ord='euclidean',      axis=None,      keep_dims=False,      name=None)                                                                                               | Retorna a norma do eixo dado do tensor de entrada com a ordem especificada                                |\n",
    "| matrix_solve(A, b,              adjoint=None,name=None)                                                                                                                                | Retorna o tensor x, tal que Ax = b , onde A é uma matriz e b é um vetor                                   |\n",
    "| qr(input, full_matrices=None,name=None)                                                                                                                                                | Retorna os autovetores e autovalores da matriz ou matrizes                                                |\n",
    "| svd(tensor,     full_matrices=False,     compute_uv=True,     name=None)                                                                                                               | Fatores da matriz em uma matriz unitária, uma matriz diagonal e a transposta conjugada da matriz unitária |\n",
    "| einsum(equation, *inputs)                                                                                                                                                              | Executa uma operação matemática customizada                                                               |"
   ]
  },
  {
   "cell_type": "code",
   "execution_count": 11,
   "metadata": {},
   "outputs": [
    {
     "name": "stdout",
     "output_type": "stream",
     "text": [
      "[[22. 28.]\n",
      " [49. 64.]]\n"
     ]
    }
   ],
   "source": [
    "#definimos nosso grafo \n",
    "graph2 = tf.Graph()\n",
    "\n",
    "with graph1.as_default():#Abre o grafo para definimos as variáveis (tensores) operações nós\n",
    "    t1 = tf.constant([[1.0, 2.0, 3.0], [4.0, 5.0, 6.0]]) #3x2\n",
    "    t2 = tf.constant([[1.0, 2.0], [3.0, 4.0], [5.0, 6.0]]) #2x3\n",
    "\n",
    "    t1xt2 = tf.matmul(t1, t2)    # [[ 22. 28.], [ 49. 64.]]\n",
    "\n",
    "\n",
    "with tf.Session(graph=graph1) as sess:\n",
    "    print(t1xt2.eval())"
   ]
  }
 ],
 "metadata": {
  "kernelspec": {
   "display_name": "Python 3",
   "language": "python",
   "name": "python3"
  },
  "language_info": {
   "codemirror_mode": {
    "name": "ipython",
    "version": 3
   },
   "file_extension": ".py",
   "mimetype": "text/x-python",
   "name": "python",
   "nbconvert_exporter": "python",
   "pygments_lexer": "ipython3",
   "version": "3.6.6"
  }
 },
 "nbformat": 4,
 "nbformat_minor": 2
}

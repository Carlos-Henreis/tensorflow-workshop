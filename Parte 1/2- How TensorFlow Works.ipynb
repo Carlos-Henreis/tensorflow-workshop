{
 "cells": [
  {
   "cell_type": "markdown",
   "metadata": {},
   "source": [
    "# Como o tensorflow funciona?\n",
    "\n",
    "![Image of Yaktocat](../images/fluxograma-tensorflow-Carlos.svg)\n",
    "\n",
    "## Principio Básico \n",
    "\n",
    "Define primeiro, em Python (ou outra linguagem), um grafo computacional de cálculos (fase de montagem) e, em seguida,  o TensorFlow manipula esse grafo e o executa de forma eficiente usando o código C++ otimizado (fase de execução).\n",
    "\n",
    "Para compreender como o TensorFlow funciona, é necessário entender **Tensores** e **Grafos**. Estas são as duas estruturas básicas que o Google incorporou na estrutura de Aprendizagem de Máquina da API.\n",
    "\n",
    "### Mas o que é um tensor?\n",
    "\n",
    "Formalmente, os tensores são funções multilineares dos espaços vetoriais aos números reais... **MATEMATICAMENTE COMPLICADO!**.\n",
    "\n",
    "**Computacionalmente** um tensor é uma **estrutura de dados**, que são simplesmente arrays (vetores) ou listas com n eixos (dimensões).\n",
    "\n",
    "* Os tensores tem tipos estáticos e todos os elementos devem ser do mesmo tipo. E possui formato dinâmico.\n",
    "* Para representar o formato do tensor, usa-se a notação entre colchetes []\n",
    "* Assim, um tensor sem dimensão (um escalar) é representado pela forma [], um tensor 1D (vetor) é representado pela forma [k], um tensor 2D é representado pela forma [k,m] e assim por diante.\n",
    "\n",
    "### Exemplo\n",
    "\n",
    "Como um exemplo mais concreto, considere um lote de 100 imagens coloridas (RGB) e de tamanho 28x28 px. \n",
    "O tensor que armazenaria esses dados seria do formato [n_lote, n_altura, n_largura, n_cores], ou, em números, [100, 28, 28, 3].\n",
    "\n",
    "![Image of Yaktocat](../images/exemplo-tensor.png)\n",
    "\n",
    "#### TensorFlow = **Defini uma estrutura e executa cálculos envolvendo tensores que representa um modelo de aprendizagem ou matemático**\n",
    "\n",
    "## Grafos\n",
    "\n",
    "Grafo: Composto de nós e arestas\n",
    "\n",
    "* Nós (nodes) no grafo: representam operações matemáticas.\n",
    "* Arestas(edges) no grafo: representam os Tensores que fluem entre as operações\n",
    "\n",
    "![Image of Yaktocat](../images/grafo%20computacional.svg)\n",
    "\n",
    "O Tensorflow é um Framework para computação numérica onde os dados fluem através de um grafo, os dados são representados por arrays N-dimensionais chamados Tensores, e atualmente é utilizado para processamento de linguagem natural, inteligência artificial, visão computacional e **análise preditiva**.\n",
    "\n",
    "## Componentes do Tensorflow\n",
    "\n",
    "O Tensorflow fornece um ambiente de programação dividido em várias camadas.\n",
    "\n",
    "![Image of Yaktocat](../images/tensorflow_programming_environment.png)\n",
    "\n",
    "* Na base dessa biblioteca, encontra-se o motor de execução distribuído que é responsável pela abstração de hardware onde a biblioteca será executada. Essa base é composta por um núcleo de alto desempenho escrito na linguagem C++.\n",
    "\n",
    "* Acima da base está a API de baixo nível em várias linguagens como Python, C++, Javascript e Go, mas só a linguagem Python é a versão com garantia de estabilidade e é a mais fácil de ser utilizada.\n",
    "\n",
    "* Em seguida, vem a API de nível intermediário chamada Layers. Ela proporciona uma interface mais simplificada para as camadas mais utilizadas nos modelos de aprendizado profundo.\n",
    "\n",
    "* No topo dessa, encontra-se a API de alto nível do Tensorflow que inclui a biblioteca Keras e Estimator, que proporcionam treinamento e avaliação de modelos distribuídos de modo mais fácil.\n"
   ]
  }
 ],
 "metadata": {
  "kernelspec": {
   "display_name": "Python 3",
   "language": "python",
   "name": "python3"
  },
  "language_info": {
   "codemirror_mode": {
    "name": "ipython",
    "version": 3
   },
   "file_extension": ".py",
   "mimetype": "text/x-python",
   "name": "python",
   "nbconvert_exporter": "python",
   "pygments_lexer": "ipython3",
   "version": "3.6.6"
  }
 },
 "nbformat": 4,
 "nbformat_minor": 2
}

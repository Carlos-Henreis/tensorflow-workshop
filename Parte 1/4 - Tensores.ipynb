{
 "cells": [
  {
   "cell_type": "markdown",
   "metadata": {},
   "source": [
    "# Tensores \n",
    "\n",
    "Tensores são a estrutura de dados primária que o TensorFlow usa para operar no grafo computacional. Podemos declarar esses tensores como **variáveis**, **constantes** e alimentá-los com **placeholders**. \n",
    "\n",
    "## Declarando tensores\n",
    "\n",
    "Primeiro, precisamos saber como criar tensores. Existem várias formas de criar tensores no TensorFlow:"
   ]
  },
  {
   "cell_type": "code",
   "execution_count": 2,
   "metadata": {},
   "outputs": [],
   "source": [
    "import tensorflow as tf\n",
    "\n",
    "sess = tf.Session()"
   ]
  },
  {
   "cell_type": "markdown",
   "metadata": {},
   "source": [
    "TensorFlow foi construído em função para criar tensores para uso em variáveis. Por exemplo, podemos criar um tensor preenchido com zero de forma predefinida usando a função tf.zeros () como segue."
   ]
  },
  {
   "cell_type": "code",
   "execution_count": 4,
   "metadata": {},
   "outputs": [
    {
     "data": {
      "text/plain": [
       "array([[[0., 0., 0., 0., 0.],\n",
       "        [0., 0., 0., 0., 0.],\n",
       "        [0., 0., 0., 0., 0.]],\n",
       "\n",
       "       [[0., 0., 0., 0., 0.],\n",
       "        [0., 0., 0., 0., 0.],\n",
       "        [0., 0., 0., 0., 0.]]], dtype=float32)"
      ]
     },
     "execution_count": 4,
     "metadata": {},
     "output_type": "execute_result"
    }
   ],
   "source": [
    "ter_zero = tf.zeros([2, 3, 5])\n",
    "#Podemos avaliar tensores com a chamada de um método run() em nossa sessão.\n",
    "sess.run(ter_zero)"
   ]
  },
  {
   "cell_type": "code",
   "execution_count": 5,
   "metadata": {},
   "outputs": [],
   "source": [
    "#Criar um tensor preenchido de zeros\n",
    "\n",
    "ter_ones = tf.ones([3, 2, 4])"
   ]
  },
  {
   "cell_type": "code",
   "execution_count": 6,
   "metadata": {},
   "outputs": [],
   "source": [
    "#Criar um tensor preenchido de uma constante\n",
    "\n",
    "ter_conts = tf.fill([4, 4, 4], 0.2)"
   ]
  },
  {
   "cell_type": "code",
   "execution_count": 7,
   "metadata": {},
   "outputs": [],
   "source": [
    "#Criar um tensor preenchido com constantes já existentes\n",
    "\n",
    "ter_consts2 = tf.constant([[45, 56, 5], \n",
    "                        [3, -3, -4]])"
   ]
  },
  {
   "cell_type": "code",
   "execution_count": 15,
   "metadata": {},
   "outputs": [
    {
     "name": "stdout",
     "output_type": "stream",
     "text": [
      "Tensor(\"zeros_like_7:0\", shape=(2, 3), dtype=int32)\n",
      "Tensor(\"ones_like_7:0\", shape=(2, 3), dtype=int32)\n",
      "Tensor(\"Const:0\", shape=(2, 3), dtype=int32)\n"
     ]
    },
    {
     "data": {
      "text/plain": [
       "array([0., 0., 0., 0., 0.], dtype=float32)"
      ]
     },
     "execution_count": 15,
     "metadata": {},
     "output_type": "execute_result"
    }
   ],
   "source": [
    "#Tem como iniciarmos tensores com base em outras variáveis\n",
    "\n",
    "zeros_similar = tf.zeros_like(ter_consts2)\n",
    "ones_similar = tf.ones_like(ter_consts2)\n",
    "\n",
    "print(zeros_similar)\n",
    "print(ones_similar)\n",
    "print(ter_consts2)\n",
    "\n",
    "#Podemos acessar um elemento especifico de um tensor atravez de seus indices\n",
    "\n",
    "sess.run(ter_zero[0, 0]) #ter_zero possui dimensão [2, 3, 5]"
   ]
  },
  {
   "cell_type": "markdown",
   "metadata": {},
   "source": [
    "## Alterar a forma de um tensor\n",
    "\n",
    "O número de elementos de um tensor é o produto dos tamanhos de todas as suas formas. O número de elementos de um escalar é sempre 1. Como muitas vezes há muitas formas diferentes que têm o mesmo número de elementos, geralmente é conveniente alterar a forma de um tf.Tensor, mantendo seus elementos fixos. Isso pode ser feito com tf.reshape."
   ]
  },
  {
   "cell_type": "code",
   "execution_count": 19,
   "metadata": {},
   "outputs": [
    {
     "name": "stdout",
     "output_type": "stream",
     "text": [
      "[1. 1. 1. 1. 1. 1. 1. 1.]\n",
      "[[1. 1. 1. 1.]\n",
      " [1. 1. 1. 1.]]\n"
     ]
    }
   ],
   "source": [
    "vetor = tf.ones([8]) #vetor de 8 elementos\n",
    "\n",
    "#queremos uma matriz 2x4\n",
    "\n",
    "matriz = tf.reshape(vetor, [2, 4])\n",
    "\n",
    "print(sess.run(vetor))\n",
    "\n",
    "print(sess.run(matriz))"
   ]
  },
  {
   "cell_type": "markdown",
   "metadata": {},
   "source": [
    "## Criando Tensores Baseados em Sequências e Intervalos\n",
    "\n",
    "Também podemos criar tensores a partir de funções de geração de sequência. As funções `linspace()` e `range()` operam de maneira muito semelhante aos equivalentes python/numpy."
   ]
  },
  {
   "cell_type": "code",
   "execution_count": 24,
   "metadata": {},
   "outputs": [
    {
     "name": "stdout",
     "output_type": "stream",
     "text": [
      "[0.  0.5 1. ]\n",
      "[ 6  9 12]\n"
     ]
    }
   ],
   "source": [
    "\n",
    "# Linspace no TensorFlow\n",
    "linear_tens = tf.linspace(start=0.0, stop=1.0, num=3) # gera [0.0, 0.5, 1.0]\n",
    "\n",
    "# Range no TensorFlow\n",
    "sequence_tens = tf.range(start=6, limit=15, delta=3) # gera [6, 9, 12]\n",
    "\n",
    "print(sess.run(linear_tens))\n",
    "print(sess.run(sequence_tens))"
   ]
  },
  {
   "cell_type": "markdown",
   "metadata": {},
   "source": [
    "## Valores Aleatórios\n",
    "\n",
    "Podemos também inicializar tensores com números aleatórios:"
   ]
  },
  {
   "cell_type": "code",
   "execution_count": 26,
   "metadata": {
    "scrolled": true
   },
   "outputs": [
    {
     "name": "stdout",
     "output_type": "stream",
     "text": [
      "[[ 0.93908113 -0.09634297 -0.12126986 -2.1226382   0.8582718 ]\n",
      " [-0.43361267 -1.4046769   0.1943809  -1.0293678   1.1101444 ]]\n",
      "[[0.15634108 3.7974439  3.017315   2.5253901  0.47274923]\n",
      " [2.9618983  0.7337756  3.1901798  3.7352867  0.73898315]]\n"
     ]
    }
   ],
   "source": [
    "rnorm_tens = tf.random_normal([2, 5], mean=0.0, stddev=1.0)\n",
    "runif_tens = tf.random_uniform([2, 5], minval=0, maxval=4)\n",
    "\n",
    "print(sess.run(rnorm_tens))\n",
    "print(sess.run(runif_tens))"
   ]
  },
  {
   "cell_type": "markdown",
   "metadata": {},
   "source": [
    "# Usando placeholder e Variáveis\n",
    "\n",
    "Placeholders e variáveis são ferramentas-chave para usar gráficos computacionais no TensorFlow. Devemos entender a diferença e quando melhor utilizá-las em nosso benefício.\n",
    "\n",
    "* **TensorFlow Variables (tf.Variables()):**  Quando se treina um modelo, usa-se variáveis para manter e atualizar os parâmetros. As variáveis são buffers na memória contendo tensores.\n",
    "\n",
    "    * Pode atualuzar os peso/bias durante a otimização para minimizar uma função de perda (erro).\n",
    "\n",
    "* **TensorFlow Placeholders (tf.Placeholders()):** Nós “falsos” que fornecem pontos de entrada de dados para o grafo computacional  durante tempo de execução.\n",
    "    * Os Placeholders  são objetos que permitem o fornecimento de dados de um tipo e forma específicos. \n",
    "    * São usados para passar os dados de treinamento para TensorFlow durante o treinamento. Caso não especifique um valor em tempo de execução para Placeholders, é gerado uma exceção (pode ocasionar um erro se não tratado).\n",
    "    \n",
    "## Manipulando Variáveis\n",
    "\n",
    "Variáveis são manipuladas pela classe `tf.Variable`. A tf.Variable  que usa um `tf.Tensor` como entrada e gera uma variável. Ainda precisamos inicializar a variável. Iniciar a variável a acresta com os métodos correspondentes no grafo computacional.\n"
   ]
  },
  {
   "cell_type": "code",
   "execution_count": 44,
   "metadata": {},
   "outputs": [],
   "source": [
    "my_var = tf.Variable(tf.zeros([2,3]))#definindo atraves de um tensor\n"
   ]
  },
  {
   "cell_type": "markdown",
   "metadata": {},
   "source": [
    "## Placeholders\n",
    "\n",
    "Os Placeholders estão apenas mantendo a posição dos dados a serem alimentados no grafo. O mecanismo de alimentação de dados do TensorFlow permite injetar dados em qualquer Tensor em um grafo em tempo de execução.\n",
    "Isso é feito através do argumento `feed_dict`"
   ]
  },
  {
   "cell_type": "code",
   "execution_count": 34,
   "metadata": {},
   "outputs": [],
   "source": [
    "input_x = tf.placeholder(tf.float32, [None, 3])"
   ]
  },
  {
   "cell_type": "markdown",
   "metadata": {},
   "source": [
    "Abordaramos com mais calma sobre esses componentes mais adiante"
   ]
  }
 ],
 "metadata": {
  "kernelspec": {
   "display_name": "Python 3",
   "language": "python",
   "name": "python3"
  },
  "language_info": {
   "codemirror_mode": {
    "name": "ipython",
    "version": 3
   },
   "file_extension": ".py",
   "mimetype": "text/x-python",
   "name": "python",
   "nbconvert_exporter": "python",
   "pygments_lexer": "ipython3",
   "version": "3.6.6"
  }
 },
 "nbformat": 4,
 "nbformat_minor": 2
}
